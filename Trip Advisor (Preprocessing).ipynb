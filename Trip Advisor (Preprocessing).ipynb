{
 "cells": [
  {
   "cell_type": "markdown",
   "id": "0688a8af",
   "metadata": {},
   "source": [
    "# Trip Advisor Hotel Reviews\n",
    "### 20k hotel reviews extracted from Tripadvisor."
   ]
  },
  {
   "cell_type": "markdown",
   "id": "1b9c5ceb",
   "metadata": {},
   "source": [
    "## Important lLibraries"
   ]
  },
  {
   "cell_type": "code",
   "execution_count": 1,
   "id": "9a2b6d7f",
   "metadata": {},
   "outputs": [],
   "source": [
    "import pandas as pd\n",
    "import numpy as np\n",
    "import re\n",
    "import itertools\n",
    "import time\n",
    "import nltk\n",
    "from nltk.corpus import stopwords\n",
    "import matplotlib.pyplot as plt\n",
    "import seaborn as sns\n",
    "from nltk.stem.porter import PorterStemmer\n",
    "from nltk import word_tokenize, pos_tag, pos_tag_sents\n",
    "from nltk.corpus import stopwords\n",
    "import contractions\n",
    "import string \n",
    "from nltk.stem import LancasterStemmer\n",
    "import nltk\n",
    "from nltk.stem.wordnet import WordNetLemmatizer\n",
    "from nltk.corpus import wordnet\n",
    "from collections import Counter"
   ]
  },
  {
   "cell_type": "markdown",
   "id": "ecf04d35",
   "metadata": {},
   "source": [
    "#### Let's read the data"
   ]
  },
  {
   "cell_type": "code",
   "execution_count": 2,
   "id": "e6a4378d",
   "metadata": {},
   "outputs": [],
   "source": [
    "df = pd.read_csv('tripadvisor_hotel_reviews.csv')"
   ]
  },
  {
   "cell_type": "code",
   "execution_count": 3,
   "id": "325e4357",
   "metadata": {},
   "outputs": [
    {
     "data": {
      "text/html": [
       "<div>\n",
       "<style scoped>\n",
       "    .dataframe tbody tr th:only-of-type {\n",
       "        vertical-align: middle;\n",
       "    }\n",
       "\n",
       "    .dataframe tbody tr th {\n",
       "        vertical-align: top;\n",
       "    }\n",
       "\n",
       "    .dataframe thead th {\n",
       "        text-align: right;\n",
       "    }\n",
       "</style>\n",
       "<table border=\"1\" class=\"dataframe\">\n",
       "  <thead>\n",
       "    <tr style=\"text-align: right;\">\n",
       "      <th></th>\n",
       "      <th>Review</th>\n",
       "      <th>Rating</th>\n",
       "    </tr>\n",
       "  </thead>\n",
       "  <tbody>\n",
       "    <tr>\n",
       "      <th>0</th>\n",
       "      <td>nice hotel expensive parking got good deal sta...</td>\n",
       "      <td>4</td>\n",
       "    </tr>\n",
       "    <tr>\n",
       "      <th>1</th>\n",
       "      <td>ok nothing special charge diamond member hilto...</td>\n",
       "      <td>2</td>\n",
       "    </tr>\n",
       "    <tr>\n",
       "      <th>2</th>\n",
       "      <td>nice rooms not 4* experience hotel monaco seat...</td>\n",
       "      <td>3</td>\n",
       "    </tr>\n",
       "    <tr>\n",
       "      <th>3</th>\n",
       "      <td>unique, great stay, wonderful time hotel monac...</td>\n",
       "      <td>5</td>\n",
       "    </tr>\n",
       "    <tr>\n",
       "      <th>4</th>\n",
       "      <td>great stay great stay, went seahawk game aweso...</td>\n",
       "      <td>5</td>\n",
       "    </tr>\n",
       "  </tbody>\n",
       "</table>\n",
       "</div>"
      ],
      "text/plain": [
       "                                              Review  Rating\n",
       "0  nice hotel expensive parking got good deal sta...       4\n",
       "1  ok nothing special charge diamond member hilto...       2\n",
       "2  nice rooms not 4* experience hotel monaco seat...       3\n",
       "3  unique, great stay, wonderful time hotel monac...       5\n",
       "4  great stay great stay, went seahawk game aweso...       5"
      ]
     },
     "execution_count": 3,
     "metadata": {},
     "output_type": "execute_result"
    }
   ],
   "source": [
    "df.head()"
   ]
  },
  {
   "cell_type": "markdown",
   "id": "79092f49",
   "metadata": {},
   "source": [
    "### Data Cleaning"
   ]
  },
  {
   "cell_type": "code",
   "execution_count": 4,
   "id": "dc5c7b7a",
   "metadata": {},
   "outputs": [
    {
     "data": {
      "text/plain": [
       "(20491, 2)"
      ]
     },
     "execution_count": 4,
     "metadata": {},
     "output_type": "execute_result"
    }
   ],
   "source": [
    "df.shape"
   ]
  },
  {
   "cell_type": "code",
   "execution_count": 5,
   "id": "1bf79a6e",
   "metadata": {},
   "outputs": [
    {
     "data": {
      "text/plain": [
       "Review    0\n",
       "Rating    0\n",
       "dtype: int64"
      ]
     },
     "execution_count": 5,
     "metadata": {},
     "output_type": "execute_result"
    }
   ],
   "source": [
    "df.isna().sum()"
   ]
  },
  {
   "cell_type": "code",
   "execution_count": 6,
   "id": "96c4b97c",
   "metadata": {},
   "outputs": [
    {
     "data": {
      "text/plain": [
       "0"
      ]
     },
     "execution_count": 6,
     "metadata": {},
     "output_type": "execute_result"
    }
   ],
   "source": [
    "df.duplicated().sum()"
   ]
  },
  {
   "cell_type": "code",
   "execution_count": 7,
   "id": "1ba24dd6",
   "metadata": {},
   "outputs": [
    {
     "name": "stdout",
     "output_type": "stream",
     "text": [
      "<class 'pandas.core.frame.DataFrame'>\n",
      "RangeIndex: 20491 entries, 0 to 20490\n",
      "Data columns (total 2 columns):\n",
      " #   Column  Non-Null Count  Dtype \n",
      "---  ------  --------------  ----- \n",
      " 0   Review  20491 non-null  object\n",
      " 1   Rating  20491 non-null  int64 \n",
      "dtypes: int64(1), object(1)\n",
      "memory usage: 320.3+ KB\n"
     ]
    }
   ],
   "source": [
    "df.info()"
   ]
  },
  {
   "cell_type": "markdown",
   "id": "0136fada",
   "metadata": {},
   "source": [
    "#### So as we can see it's cleaned data and we will start to Exploratory Data Analysis "
   ]
  },
  {
   "cell_type": "markdown",
   "id": "4740293c",
   "metadata": {},
   "source": [
    "### Exploratory Data Analysis"
   ]
  },
  {
   "cell_type": "code",
   "execution_count": 8,
   "id": "5e3f7066",
   "metadata": {},
   "outputs": [
    {
     "data": {
      "image/png": "[encoded data removed]",
      "text/plain": [
       "<Figure size 432x288 with 1 Axes>"
      ]
     },
     "metadata": {
      "needs_background": "light"
     },
     "output_type": "display_data"
    }
   ],
   "source": [
    "#Now, we will take a look at the variable “Rating” to see if majority of the customer ratings are positive or negative.\n",
    "sns.countplot(x= df['Rating'])\n",
    "plt.title('Class Distribution')\n",
    "plt.show()"
   ]
  },
  {
   "cell_type": "markdown",
   "id": "c3b1a563",
   "metadata": {},
   "source": [
    "From Above Distribution we can find out that count of high rating hotels are more as compared to low rating hotels."
   ]
  },
  {
   "cell_type": "markdown",
   "id": "52b278fe",
   "metadata": {},
   "source": [
    "## NLP Preprocessing"
   ]
  },
  {
   "cell_type": "markdown",
   "id": "03e60388",
   "metadata": {},
   "source": [
    "#### Contractions\n",
    "* is capable of resolving contractions (and slang)\n",
    "##### example:  i’m    ---> I am"
   ]
  },
  {
   "cell_type": "code",
   "execution_count": 9,
   "id": "57d3026d",
   "metadata": {},
   "outputs": [],
   "source": [
    "df['Review']=df['Review'].apply(lambda x: contractions.fix(x))"
   ]
  },
  {
   "cell_type": "markdown",
   "id": "427b1d28",
   "metadata": {},
   "source": [
    "#### Cleaning the Text"
   ]
  },
  {
   "cell_type": "code",
   "execution_count": 10,
   "id": "8d22dc76",
   "metadata": {},
   "outputs": [],
   "source": [
    "X = df['Review']\n",
    "y = df['Rating']\n",
    "\n",
    "def data_cleaner(review):\n",
    "    \n",
    "    \n",
    "    # remove digits\n",
    "    review = re.sub(r'\\d+',' ', review)\n",
    "   \n",
    "    \n",
    "    #removing stop words\n",
    "    review = review.split()\n",
    "    review = \" \".join([word for word in review if not word in stop_words])\n",
    "    \n",
    "    #removing duplicate letters in words\n",
    "    review = re.sub(r'(.)\\1+', r'\\1\\1', review)  \n",
    "    #review = re.sub(r'(.)\\1+', r'\\1', review)\n",
    "    \n",
    "    #Removing all special characters and numericals leaving the alphabets\n",
    "\n",
    "    review = re.sub('[^A-Za-z]+', ' ', review)\n",
    "    \n",
    "    #Remove Extraspace\n",
    "    review=re.sub(' +',' ',review)\n",
    "    \n",
    "    #Remove punctuations\n",
    "    review=re.sub('[%s]' % re.escape(string.punctuation), '',review)\n",
    "    \n",
    "    # Fuction to clean the text data * symbols *change to lower_case\n",
    "    review = review.lower()\n",
    "    review = re.sub(r\"(@[A-Za-z0-9]+)|([^0-9A-Za-z \\t])|(\\w+:\\/\\/\\S+)|^rt|http.+?\", \"\", review) \n",
    "    \n",
    "    # mathes any whitespace \n",
    "    review = re.sub(r'\\s+',' ', review)\n",
    "    \n",
    "    # remove HTML tag/markups\n",
    "    review = re.compile('<.*?>').sub(' ', review)\n",
    "    \n",
    "    return review\n",
    "\n",
    "ps = PorterStemmer() \n",
    "stop_words = stopwords.words('english')\n",
    "\n",
    "df['Review'] = X.apply(data_cleaner)\n"
   ]
  },
  {
   "cell_type": "code",
   "execution_count": 11,
   "id": "8f6a9caa",
   "metadata": {},
   "outputs": [],
   "source": [
    "#Removing numbers\n",
    "df[\"Review\"] = df[\"Review\"].replace('\\w*\\d\\w*', '', regex=True)"
   ]
  },
  {
   "cell_type": "markdown",
   "id": "ff457140",
   "metadata": {},
   "source": [
    "##### Remove words with three letters or less"
   ]
  },
  {
   "cell_type": "code",
   "execution_count": 12,
   "id": "66871744",
   "metadata": {},
   "outputs": [
    {
     "name": "stderr",
     "output_type": "stream",
     "text": [
      "<ipython-input-12-b27af299581b>:1: FutureWarning: The default value of regex will change from True to False in a future version.\n",
      "  df['Review']=df['Review'].str.replace(r'\\b(\\w{1,3})\\b', '')\n"
     ]
    }
   ],
   "source": [
    "df['Review']=df['Review'].str.replace(r'\\b(\\w{1,3})\\b', '')"
   ]
  },
  {
   "cell_type": "code",
   "execution_count": 13,
   "id": "06b43c2c",
   "metadata": {},
   "outputs": [
    {
     "data": {
      "text/html": [
       "<div>\n",
       "<style scoped>\n",
       "    .dataframe tbody tr th:only-of-type {\n",
       "        vertical-align: middle;\n",
       "    }\n",
       "\n",
       "    .dataframe tbody tr th {\n",
       "        vertical-align: top;\n",
       "    }\n",
       "\n",
       "    .dataframe thead th {\n",
       "        text-align: right;\n",
       "    }\n",
       "</style>\n",
       "<table border=\"1\" class=\"dataframe\">\n",
       "  <thead>\n",
       "    <tr style=\"text-align: right;\">\n",
       "      <th></th>\n",
       "      <th>Review</th>\n",
       "      <th>Rating</th>\n",
       "    </tr>\n",
       "  </thead>\n",
       "  <tbody>\n",
       "    <tr>\n",
       "      <th>0</th>\n",
       "      <td>nice hotel expensive parking  good deal stay h...</td>\n",
       "      <td>4</td>\n",
       "    </tr>\n",
       "    <tr>\n",
       "      <th>1</th>\n",
       "      <td>nothing special charge diamond member hilton ...</td>\n",
       "      <td>2</td>\n",
       "    </tr>\n",
       "    <tr>\n",
       "      <th>2</th>\n",
       "      <td>nice rooms experience hotel monaco seattle goo...</td>\n",
       "      <td>3</td>\n",
       "    </tr>\n",
       "    <tr>\n",
       "      <th>3</th>\n",
       "      <td>unique great stay wonderful time hotel monaco ...</td>\n",
       "      <td>5</td>\n",
       "    </tr>\n",
       "    <tr>\n",
       "      <th>4</th>\n",
       "      <td>great stay great stay went seahawk game awesom...</td>\n",
       "      <td>5</td>\n",
       "    </tr>\n",
       "  </tbody>\n",
       "</table>\n",
       "</div>"
      ],
      "text/plain": [
       "                                              Review  Rating\n",
       "0  nice hotel expensive parking  good deal stay h...       4\n",
       "1   nothing special charge diamond member hilton ...       2\n",
       "2  nice rooms experience hotel monaco seattle goo...       3\n",
       "3  unique great stay wonderful time hotel monaco ...       5\n",
       "4  great stay great stay went seahawk game awesom...       5"
      ]
     },
     "execution_count": 13,
     "metadata": {},
     "output_type": "execute_result"
    }
   ],
   "source": [
    "df.head()"
   ]
  },
  {
   "cell_type": "markdown",
   "id": "0a8fc048",
   "metadata": {},
   "source": [
    "###  Normalization\n",
    "* Stemming: A process of removing and replacing suffixes to get to the root form of the word, which is called stem.\n",
    "* Lemmatization: returns the base or dictionary form of a word."
   ]
  },
  {
   "cell_type": "markdown",
   "id": "f2e3faab",
   "metadata": {},
   "source": [
    "#### Stemming"
   ]
  },
  {
   "cell_type": "code",
   "execution_count": 14,
   "id": "648ce453",
   "metadata": {},
   "outputs": [],
   "source": [
    "stemmer = PorterStemmer()\n",
    "def stem_words(text):\n",
    "    return \" \".join([stemmer.stem(word) for word in text.split()])\n"
   ]
  },
  {
   "cell_type": "code",
   "execution_count": 15,
   "id": "a516bf18",
   "metadata": {},
   "outputs": [
    {
     "data": {
      "text/html": [
       "<div>\n",
       "<style scoped>\n",
       "    .dataframe tbody tr th:only-of-type {\n",
       "        vertical-align: middle;\n",
       "    }\n",
       "\n",
       "    .dataframe tbody tr th {\n",
       "        vertical-align: top;\n",
       "    }\n",
       "\n",
       "    .dataframe thead th {\n",
       "        text-align: right;\n",
       "    }\n",
       "</style>\n",
       "<table border=\"1\" class=\"dataframe\">\n",
       "  <thead>\n",
       "    <tr style=\"text-align: right;\">\n",
       "      <th></th>\n",
       "      <th>Review</th>\n",
       "      <th>Rating</th>\n",
       "    </tr>\n",
       "  </thead>\n",
       "  <tbody>\n",
       "    <tr>\n",
       "      <th>0</th>\n",
       "      <td>nice hotel expens park good deal stay hotel an...</td>\n",
       "      <td>4</td>\n",
       "    </tr>\n",
       "    <tr>\n",
       "      <th>1</th>\n",
       "      <td>noth special charg diamond member hilton decid...</td>\n",
       "      <td>2</td>\n",
       "    </tr>\n",
       "    <tr>\n",
       "      <th>2</th>\n",
       "      <td>nice room experi hotel monaco seattl good hote...</td>\n",
       "      <td>3</td>\n",
       "    </tr>\n",
       "    <tr>\n",
       "      <th>3</th>\n",
       "      <td>uniqu great stay wonder time hotel monaco loca...</td>\n",
       "      <td>5</td>\n",
       "    </tr>\n",
       "    <tr>\n",
       "      <th>4</th>\n",
       "      <td>great stay great stay went seahawk game awesom...</td>\n",
       "      <td>5</td>\n",
       "    </tr>\n",
       "  </tbody>\n",
       "</table>\n",
       "</div>"
      ],
      "text/plain": [
       "                                              Review  Rating\n",
       "0  nice hotel expens park good deal stay hotel an...       4\n",
       "1  noth special charg diamond member hilton decid...       2\n",
       "2  nice room experi hotel monaco seattl good hote...       3\n",
       "3  uniqu great stay wonder time hotel monaco loca...       5\n",
       "4  great stay great stay went seahawk game awesom...       5"
      ]
     },
     "execution_count": 15,
     "metadata": {},
     "output_type": "execute_result"
    }
   ],
   "source": [
    "df[\"Review\"] = df[\"Review\"].apply(lambda text: stem_words(text))\n",
    "df.head()"
   ]
  },
  {
   "cell_type": "markdown",
   "id": "72cca700",
   "metadata": {},
   "source": [
    "#### Lemmitization"
   ]
  },
  {
   "cell_type": "code",
   "execution_count": 16,
   "id": "3cdc3f36",
   "metadata": {},
   "outputs": [],
   "source": [
    "def lemmatization(texts, allowed_postags=['NOUN', 'ADJ', 'VERB', 'ADV']):\n",
    "    texts_out = []\n",
    "    for sent in texts:\n",
    "        doc = nlp(\" \".join(sent)) \n",
    "        texts_out.append([token.lemma_ for token in doc if token.pos_ in allowed_postags])\n",
    "    return texts_out"
   ]
  },
  {
   "cell_type": "code",
   "execution_count": 17,
   "id": "ec809d96",
   "metadata": {},
   "outputs": [],
   "source": [
    "lemmatizer = WordNetLemmatizer()\n",
    "wordnet_map = {\"N\":wordnet.NOUN, \"V\":wordnet.VERB, \"J\":wordnet.ADJ, \"R\":wordnet.ADV}\n",
    "def lemmatize_words(text):\n",
    "    pos_tagged_text = nltk.pos_tag(text.split())\n",
    "    return \" \".join([lemmatizer.lemmatize(word, wordnet_map.get(pos[0], wordnet.NOUN)) for word, pos in pos_tagged_text])\n"
   ]
  },
  {
   "cell_type": "code",
   "execution_count": 18,
   "id": "793874a5",
   "metadata": {},
   "outputs": [
    {
     "data": {
      "text/html": [
       "<div>\n",
       "<style scoped>\n",
       "    .dataframe tbody tr th:only-of-type {\n",
       "        vertical-align: middle;\n",
       "    }\n",
       "\n",
       "    .dataframe tbody tr th {\n",
       "        vertical-align: top;\n",
       "    }\n",
       "\n",
       "    .dataframe thead th {\n",
       "        text-align: right;\n",
       "    }\n",
       "</style>\n",
       "<table border=\"1\" class=\"dataframe\">\n",
       "  <thead>\n",
       "    <tr style=\"text-align: right;\">\n",
       "      <th></th>\n",
       "      <th>Review</th>\n",
       "      <th>Rating</th>\n",
       "    </tr>\n",
       "  </thead>\n",
       "  <tbody>\n",
       "    <tr>\n",
       "      <th>0</th>\n",
       "      <td>nice hotel expens park good deal stay hotel an...</td>\n",
       "      <td>4</td>\n",
       "    </tr>\n",
       "    <tr>\n",
       "      <th>1</th>\n",
       "      <td>noth special charg diamond member hilton decid...</td>\n",
       "      <td>2</td>\n",
       "    </tr>\n",
       "    <tr>\n",
       "      <th>2</th>\n",
       "      <td>nice room experi hotel monaco seattl good hote...</td>\n",
       "      <td>3</td>\n",
       "    </tr>\n",
       "    <tr>\n",
       "      <th>3</th>\n",
       "      <td>uniqu great stay wonder time hotel monaco loca...</td>\n",
       "      <td>5</td>\n",
       "    </tr>\n",
       "    <tr>\n",
       "      <th>4</th>\n",
       "      <td>great stay great stay go seahawk game awesom d...</td>\n",
       "      <td>5</td>\n",
       "    </tr>\n",
       "  </tbody>\n",
       "</table>\n",
       "</div>"
      ],
      "text/plain": [
       "                                              Review  Rating\n",
       "0  nice hotel expens park good deal stay hotel an...       4\n",
       "1  noth special charg diamond member hilton decid...       2\n",
       "2  nice room experi hotel monaco seattl good hote...       3\n",
       "3  uniqu great stay wonder time hotel monaco loca...       5\n",
       "4  great stay great stay go seahawk game awesom d...       5"
      ]
     },
     "execution_count": 18,
     "metadata": {},
     "output_type": "execute_result"
    }
   ],
   "source": [
    "df[\"Review\"] = df[\"Review\"].apply(lambda text: lemmatize_words(text))\n",
    "df.head()"
   ]
  },
  {
   "cell_type": "markdown",
   "id": "1a5f2de9",
   "metadata": {},
   "source": [
    "#### Removing most frequent words"
   ]
  },
  {
   "cell_type": "code",
   "execution_count": 19,
   "id": "3c875023",
   "metadata": {},
   "outputs": [],
   "source": [
    "cnt = Counter()\n",
    "txt = ['also', 'meanwhile','however', 'time','hour', 'soon', 'day', 'book','there', 'hotel','stayed', 'room', 'leave','arrive', 'stay', 'come','walk', 'check','ask', 'lot', 'thing', 'add', 'rarely','use', 'look', 'minute','bring', 'need', 'world','think', 'value','hope', 'include','night', 'people','look', 'need']\n",
    "\n",
    "for txt in df['Review'].values:\n",
    "    for word in txt.split():\n",
    "        cnt[word]+=1\n"
   ]
  },
  {
   "cell_type": "code",
   "execution_count": 20,
   "id": "62764a9f",
   "metadata": {},
   "outputs": [
    {
     "data": {
      "text/html": [
       "<div>\n",
       "<style scoped>\n",
       "    .dataframe tbody tr th:only-of-type {\n",
       "        vertical-align: middle;\n",
       "    }\n",
       "\n",
       "    .dataframe tbody tr th {\n",
       "        vertical-align: top;\n",
       "    }\n",
       "\n",
       "    .dataframe thead th {\n",
       "        text-align: right;\n",
       "    }\n",
       "</style>\n",
       "<table border=\"1\" class=\"dataframe\">\n",
       "  <thead>\n",
       "    <tr style=\"text-align: right;\">\n",
       "      <th></th>\n",
       "      <th>Review</th>\n",
       "      <th>Rating</th>\n",
       "      <th>Review2</th>\n",
       "    </tr>\n",
       "  </thead>\n",
       "  <tbody>\n",
       "    <tr>\n",
       "      <th>0</th>\n",
       "      <td>nice hotel expens park good deal stay hotel an...</td>\n",
       "      <td>4</td>\n",
       "      <td>nice expens park good deal anniversari arriv l...</td>\n",
       "    </tr>\n",
       "    <tr>\n",
       "      <th>1</th>\n",
       "      <td>noth special charg diamond member hilton decid...</td>\n",
       "      <td>2</td>\n",
       "      <td>noth special charg diamond member hilton decid...</td>\n",
       "    </tr>\n",
       "    <tr>\n",
       "      <th>2</th>\n",
       "      <td>nice room experi hotel monaco seattl good hote...</td>\n",
       "      <td>3</td>\n",
       "      <td>nice experi monaco seattl good level posit lar...</td>\n",
       "    </tr>\n",
       "    <tr>\n",
       "      <th>3</th>\n",
       "      <td>uniqu great stay wonder time hotel monaco loca...</td>\n",
       "      <td>5</td>\n",
       "      <td>uniqu great wonder time monaco locat excel sho...</td>\n",
       "    </tr>\n",
       "    <tr>\n",
       "      <th>4</th>\n",
       "      <td>great stay great stay go seahawk game awesom d...</td>\n",
       "      <td>5</td>\n",
       "      <td>great great go seahawk game awesom downfal vie...</td>\n",
       "    </tr>\n",
       "  </tbody>\n",
       "</table>\n",
       "</div>"
      ],
      "text/plain": [
       "                                              Review  Rating  \\\n",
       "0  nice hotel expens park good deal stay hotel an...       4   \n",
       "1  noth special charg diamond member hilton decid...       2   \n",
       "2  nice room experi hotel monaco seattl good hote...       3   \n",
       "3  uniqu great stay wonder time hotel monaco loca...       5   \n",
       "4  great stay great stay go seahawk game awesom d...       5   \n",
       "\n",
       "                                             Review2  \n",
       "0  nice expens park good deal anniversari arriv l...  \n",
       "1  noth special charg diamond member hilton decid...  \n",
       "2  nice experi monaco seattl good level posit lar...  \n",
       "3  uniqu great wonder time monaco locat excel sho...  \n",
       "4  great great go seahawk game awesom downfal vie...  "
      ]
     },
     "execution_count": 20,
     "metadata": {},
     "output_type": "execute_result"
    }
   ],
   "source": [
    "frequent_words = set([w for(w,wc) in cnt.most_common(3)])\n",
    "def remover(txt):\n",
    "    return \" \".join([word for word in str(txt).split() if word not in frequent_words])\n",
    "\n",
    "df['Review2'] = df['Review'].apply(lambda txt: remover(txt))\n",
    "df.head()"
   ]
  },
  {
   "cell_type": "code",
   "execution_count": 21,
   "id": "efb7a93a",
   "metadata": {},
   "outputs": [],
   "source": [
    "#saving the data\n",
    "df.to_csv('Trip_Advisor_clean.csv')"
   ]
  }
 ],
 "metadata": {
  "kernelspec": {
   "display_name": "Python 3",
   "language": "python",
   "name": "python3"
  },
  "language_info": {
   "codemirror_mode": {
    "name": "ipython",
    "version": 3
   },
   "file_extension": ".py",
   "mimetype": "text/x-python",
   "name": "python",
   "nbconvert_exporter": "python",
   "pygments_lexer": "ipython3",
   "version": "3.8.8"
  }
 },
 "nbformat": 4,
 "nbformat_minor": 5
}
